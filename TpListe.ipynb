{
 "cells": [
  {
   "cell_type": "code",
   "execution_count": 1,
   "id": "ae777a1c-f91a-4244-bfa6-95e67f255ecd",
   "metadata": {},
   "outputs": [
    {
     "data": {
      "text/plain": [
       "[3, 2, 1, 0]"
      ]
     },
     "execution_count": 1,
     "metadata": {},
     "output_type": "execute_result"
    }
   ],
   "source": [
    "x=[0,1,2,3,4,5,6,7,8,9]\n",
    "e=x[3::-1]\n",
    "e"
   ]
  },
  {
   "cell_type": "code",
   "execution_count": 9,
   "id": "c1533cd9-2760-4bb4-a68f-37ae4603dc00",
   "metadata": {},
   "outputs": [
    {
     "name": "stdout",
     "output_type": "stream",
     "text": [
      "[30, 35, 20, 15, 25]\n"
     ]
    }
   ],
   "source": [
    " l = [6, 7, 4, 3, 5]\n",
    "def mul(k, l):\n",
    "    L = []\n",
    "    for i in range(len(l)):\n",
    "        L.append(l[i] * k)\n",
    "    return L\n",
    "\n",
    "print(mul(5, l))"
   ]
  },
  {
   "cell_type": "code",
   "execution_count": 7,
   "id": "5828ef34-8073-4421-8547-94e1797bae7b",
   "metadata": {},
   "outputs": [
    {
     "name": "stdout",
     "output_type": "stream",
     "text": [
      "[1, 2, 5, 10]\n"
     ]
    }
   ],
   "source": [
    "def div(k):\n",
    "    l = []\n",
    "    for i in range(1, k+1):\n",
    "        if k % i == 0:\n",
    "            l.append(i)\n",
    "    return l\n",
    "\n",
    "print(div(10))"
   ]
  },
  {
   "cell_type": "code",
   "execution_count": 43,
   "id": "c28e883c-7658-4e48-bd5a-6d025ecae4ad",
   "metadata": {},
   "outputs": [
    {
     "name": "stdout",
     "output_type": "stream",
     "text": [
      "[1, 2, 5, 10]\n"
     ]
    }
   ],
   "source": [
    "\n",
    "def div(k):\n",
    "    l=[]\n",
    "    for i in range(1,k+1):\n",
    "        if k%i==0:\n",
    "            l=l+[i]\n",
    "    return l\n",
    "print(div(10))      "
   ]
  },
  {
   "cell_type": "code",
   "execution_count": 64,
   "id": "16b3a772-4afb-4c60-a17d-97ed3817243d",
   "metadata": {},
   "outputs": [
    {
     "data": {
      "text/plain": [
       "[]"
      ]
     },
     "execution_count": 64,
     "metadata": {},
     "output_type": "execute_result"
    }
   ],
   "source": [
    "l"
   ]
  },
  {
   "cell_type": "code",
   "execution_count": 19,
   "id": "e5a94f14-b13f-43c0-9e5a-7fa7f789c8d1",
   "metadata": {},
   "outputs": [
    {
     "data": {
      "text/plain": [
       "[0, 2, 4, 6, 8, 10, 12, 14, 16, 18]"
      ]
     },
     "execution_count": 19,
     "metadata": {},
     "output_type": "execute_result"
    }
   ],
   "source": [
    "l1=[]\n",
    "for i in range(0,20,2):\n",
    "    l1.append(i)\n",
    "l1"
   ]
  },
  {
   "cell_type": "code",
   "execution_count": 42,
   "id": "3886bdc0-86a3-419e-b34f-b36b90fdd277",
   "metadata": {},
   "outputs": [],
   "source": [
    "l2=l1[1:-1]\n",
    "\n"
   ]
  },
  {
   "cell_type": "code",
   "execution_count": 5,
   "id": "350a399b-1e24-4314-95dd-2e48a5373553",
   "metadata": {},
   "outputs": [],
   "source": [
    "l3=[i for i in range (10) if i%2 !=0]\n",
    "l3.reverse()\n",
    "l3.sort()"
   ]
  },
  {
   "cell_type": "code",
   "execution_count": 15,
   "id": "601e05c7-2f5c-48af-beb6-f78540c8eb90",
   "metadata": {},
   "outputs": [
    {
     "data": {
      "text/plain": [
       "[1.0, 1.7320508075688772, 2.23606797749979, 2.6457513110645907, 3.0]"
      ]
     },
     "execution_count": 15,
     "metadata": {},
     "output_type": "execute_result"
    }
   ],
   "source": [
    "l3=[i for i in range (10) if i%2 !=0]\n",
    "from math import sqrt\n",
    "l4=[sqrt(i) for i in l3]\n",
    "l4"
   ]
  },
  {
   "cell_type": "code",
   "execution_count": 17,
   "id": "dbc9878a-a410-4071-adac-a18ba352a29b",
   "metadata": {},
   "outputs": [
    {
     "data": {
      "text/plain": [
       "[0.0,\n",
       " 0.17364817766693033,\n",
       " 0.3420201433256687,\n",
       " 0.49999999999999994,\n",
       " 0.6427876096865393,\n",
       " 0.766044443118978,\n",
       " 0.8660254037844386,\n",
       " 0.9396926207859083,\n",
       " 0.984807753012208,\n",
       " 1.0]"
      ]
     },
     "execution_count": 17,
     "metadata": {},
     "output_type": "execute_result"
    }
   ],
   "source": [
    "import math as m\n",
    "l5=[m.sin(i*m.pi/180) for i in range(0,91,10)]\n",
    "l5"
   ]
  },
  {
   "cell_type": "code",
   "execution_count": 63,
   "id": "50064709-3d93-4082-8283-96496148f647",
   "metadata": {},
   "outputs": [
    {
     "data": {
      "text/plain": [
       "32"
      ]
     },
     "execution_count": 63,
     "metadata": {},
     "output_type": "execute_result"
    }
   ],
   "source": [
    "l1=[1,2,3]\n",
    "l2=[4,5,6]\n",
    "def scalaire(l1,l2):\n",
    "    if len(l1)==len(l2):\n",
    "        s=0\n",
    "        for i in range(3):\n",
    "             s=s+l1[i]*l2[i]\n",
    "        return s\n",
    "    else :\n",
    "        return print(\"le calcule est n'est pas possible car ils sont differnt tailles\")\n",
    "scalaire(l1,l2)"
   ]
  },
  {
   "cell_type": "code",
   "execution_count": 126,
   "id": "056c3809-69bc-4c2b-be5f-2a84087af8e5",
   "metadata": {},
   "outputs": [
    {
     "data": {
      "text/plain": [
       "[0, 6, 8, 13, 14, 15, 16, 17, 18]"
      ]
     },
     "execution_count": 126,
     "metadata": {},
     "output_type": "execute_result"
    }
   ],
   "source": [
    "v=[2,4,7,1,2,4,1,7,9,10,22,11,5,3,12,5,7,1,10,4,3]\n",
    "l=[]\n",
    "def present(v):\n",
    "     for i in range (0,19):\n",
    "         if i not in v:\n",
    "                 l.append(i)\n",
    "     return l\n",
    "present(v)"
   ]
  },
  {
   "cell_type": "code",
   "execution_count": 167,
   "id": "2dec1cea-1932-4f6a-9685-b341b8d7be30",
   "metadata": {},
   "outputs": [
    {
     "name": "stdout",
     "output_type": "stream",
     "text": [
      "Liste après élimination: [1, 2, 3, 4, 0]\n",
      "le nombre d'occurence de 3 est 1\n"
     ]
    }
   ],
   "source": [
    "l1=[1,2,3,4,19,0]\n",
    "def maxi(l1):\n",
    "    return print(\"le max est : \", max(l1),\" et leur indice et :\",l1.index(max(l1)))\n",
    "def mini(l1):\n",
    "    return print(\"le min est :\",min(l1),\"et leur indice est :\",l1.index(min(l1)))\n",
    "def occurence(x,l1):\n",
    "    return print(\"le nombre d'occurence est\",l1.count(x))\n",
    "def eliminer(y,l1):\n",
    "    l1.remove(y)\n",
    "    return l1\n",
    "print(\"Liste après élimination:\", eliminer(19, l1))\n",
    "x=3\n",
    "print(\"le nombre d'occurence de\",x,\"est\",l1.count(x))"
   ]
  },
  {
   "cell_type": "code",
   "execution_count": 151,
   "id": "aa8dddd1-91cb-4c95-b39f-c8a76069505d",
   "metadata": {},
   "outputs": [
    {
     "data": {
      "text/plain": [
       "19"
      ]
     },
     "execution_count": 151,
     "metadata": {},
     "output_type": "execute_result"
    }
   ],
   "source": [
    "l1=[1,2,3,4,19,0]\n",
    "max=l1[0]\n",
    "for i in range (len(l1)):\n",
    "    if max < l1[i]:\n",
    "        max=l1[i]\n",
    "max"
   ]
  },
  {
   "cell_type": "code",
   "execution_count": 155,
   "id": "726f3121-769c-4056-8ed7-512aa13cde67",
   "metadata": {},
   "outputs": [
    {
     "data": {
      "text/plain": [
       "0"
      ]
     },
     "execution_count": 155,
     "metadata": {},
     "output_type": "execute_result"
    }
   ],
   "source": [
    "l1=[1,2,3,4,19,0]\n",
    "min=l1[0]\n",
    "for i in range (len(l1)):\n",
    "    if min > l1[i]:\n",
    "        min=l1[i]\n",
    "min"
   ]
  },
  {
   "cell_type": "code",
   "execution_count": 206,
   "id": "dda64fca-a684-446e-9f10-cf7224ef6065",
   "metadata": {},
   "outputs": [
    {
     "name": "stdout",
     "output_type": "stream",
     "text": [
      "le nombre d'occurence de 3 est 1\n"
     ]
    }
   ],
   "source": [
    "l1=[1,2,3,4,3,3,3,19,0]\n",
    "def occ(x,l1):\n",
    "    f=0\n",
    "    for i in range(len(l1)):\n",
    "        if x==l1[i]:\n",
    "            f=f+1\n",
    "    return f\n",
    "print(\"le nombre d'occurence de\",x,\"est\",occ(1,l1))"
   ]
  },
  {
   "cell_type": "code",
   "execution_count": null,
   "id": "1aa79309-90ea-4766-8ee9-a9f54250d2d9",
   "metadata": {},
   "outputs": [],
   "source": []
  },
  {
   "cell_type": "code",
   "execution_count": null,
   "id": "aabb3c39-102f-4a05-b908-a77fa28cfc7e",
   "metadata": {},
   "outputs": [],
   "source": []
  }
 ],
 "metadata": {
  "kernelspec": {
   "display_name": "Python [conda env:base] *",
   "language": "python",
   "name": "conda-base-py"
  },
  "language_info": {
   "codemirror_mode": {
    "name": "ipython",
    "version": 3
   },
   "file_extension": ".py",
   "mimetype": "text/x-python",
   "name": "python",
   "nbconvert_exporter": "python",
   "pygments_lexer": "ipython3",
   "version": "3.12.7"
  }
 },
 "nbformat": 4,
 "nbformat_minor": 5
}
