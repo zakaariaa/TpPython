{
 "cells": [
  {
   "cell_type": "code",
   "execution_count": 54,
   "id": "c75cde9d-8858-455a-95af-0bca037270a2",
   "metadata": {},
   "outputs": [
    {
     "name": "stdout",
     "output_type": "stream",
     "text": [
      "x= 2\n",
      "x= 17\n",
      "x= 2\n",
      "x= 2\n",
      "x= 5\n",
      "x= 5\n"
     ]
    }
   ],
   "source": [
    "def f(x):\n",
    "    x=(x+3)%6\n",
    "    print(\"x=\",x)\n",
    "def g():\n",
    "    global x\n",
    "    x=(x+3)%6\n",
    "    print(\"x=\",x)\n",
    "def h(x):\n",
    "    x=(x+3)%6\n",
    "    print(\"x=\",x)\n",
    "    return x\n",
    "x=17\n",
    "f(x)\n",
    "print(\"x=\",x)\n",
    "g()\n",
    "print(\"x=\",x)\n",
    "x=h(x)\n",
    "print(\"x=\",x)"
   ]
  },
  {
   "cell_type": "code",
   "execution_count": 56,
   "id": "bba8791a-4ecf-4c84-82f0-2241a62c0c89",
   "metadata": {},
   "outputs": [
    {
     "name": "stdin",
     "output_type": "stream",
     "text": [
      "saisire la valeur de x 3\n",
      "saisire la valeur de y 4\n"
     ]
    },
    {
     "name": "stdout",
     "output_type": "stream",
     "text": [
      "la nouvelle valeur de x 4\n",
      "la nouvelle valeur de y 3\n"
     ]
    }
   ],
   "source": [
    "def permutee():\n",
    "    global a\n",
    "    global b\n",
    "    aide=a\n",
    "    a=b\n",
    "    b=aide\n",
    "a=int(input(\"saisire la valeur de a\"))\n",
    "b=int(input(\"saisire la valeur de b\"))\n",
    "permutee()\n",
    "print(\"la nouvelle valeur de a\",a)\n",
    "print(\"la nouvelle valeur de b\",b)"
   ]
  },
  {
   "cell_type": "code",
   "execution_count": 85,
   "id": "88530120-6a66-4f72-990b-048b32008230",
   "metadata": {},
   "outputs": [
    {
     "name": "stdin",
     "output_type": "stream",
     "text": [
      "donner la valeur de a 7\n"
     ]
    },
    {
     "name": "stdout",
     "output_type": "stream",
     "text": [
      "la valeur de n= 3\n"
     ]
    }
   ],
   "source": [
    "def logarithme(a):\n",
    "    n=0\n",
    "    while 2**n<=a:\n",
    "           n=n+1\n",
    "    return n\n",
    "x=int(input(\"donner la valeur de a\"))\n",
    "print(\"la valeur de n=\",logarithme(x))"
   ]
  },
  {
   "cell_type": "code",
   "execution_count": 101,
   "id": "1f8ff18d-559b-4302-b99f-d42a7e4c96f7",
   "metadata": {},
   "outputs": [
    {
     "name": "stdout",
     "output_type": "stream",
     "text": [
      "ping\n",
      "pong\n",
      "ping\n",
      "pong\n",
      "ping\n",
      "pong\n",
      "ping\n",
      "pong\n",
      "ping\n",
      "pong\n",
      "ping\n",
      "pong\n",
      "ping\n",
      "pong\n",
      "ping\n",
      "None\n"
     ]
    }
   ],
   "source": [
    "compt=0\n",
    "def ping():\n",
    "    global compt\n",
    "    if compt<n :\n",
    "        print(\"ping\")\n",
    "        compt=compt+1\n",
    "        pong()\n",
    "def pong() :\n",
    "    global compt\n",
    "    if compt<n:\n",
    "        print(\"pong\")\n",
    "        compt=compt+1\n",
    "        ping()\n",
    "n=15\n",
    "print(ping())"
   ]
  },
  {
   "cell_type": "code",
   "execution_count": null,
   "id": "94c90e95-6970-4929-b576-e6c6ae9888b7",
   "metadata": {},
   "outputs": [],
   "source": [
    "def nmchifre(n):\n",
    "    i=0\n",
    "    while(n>0):\n",
    "        n=n//10\n",
    "        i++\n",
    "    return i\n",
    "def piuss(x,n):\n",
    "    c=str(n)\n",
    "    for r in range (i):\n",
    "        \n",
    "    return y"
   ]
  }
 ],
 "metadata": {
  "kernelspec": {
   "display_name": "Python [conda env:base] *",
   "language": "python",
   "name": "conda-base-py"
  },
  "language_info": {
   "codemirror_mode": {
    "name": "ipython",
    "version": 3
   },
   "file_extension": ".py",
   "mimetype": "text/x-python",
   "name": "python",
   "nbconvert_exporter": "python",
   "pygments_lexer": "ipython3",
   "version": "3.12.7"
  }
 },
 "nbformat": 4,
 "nbformat_minor": 5
}
